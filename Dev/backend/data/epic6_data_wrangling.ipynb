{
 "cells": [
  {
   "cell_type": "markdown",
   "id": "77e2eb87",
   "metadata": {},
   "source": [
    "## FIT5120: IE Studio experience project\n",
    "### Project: Link2 HerResilience\n",
    "\n",
    "Team: Harmony (TA18)\n",
    "Author: Mandeep Singh\n",
    "\n",
    "Data wrangling process for epic6: yoga dataset"
   ]
  },
  {
   "cell_type": "code",
   "execution_count": 1,
   "id": "6bb14a7e",
   "metadata": {},
   "outputs": [],
   "source": [
    "import os\n",
    "import csv\n"
   ]
  },
  {
   "cell_type": "code",
   "execution_count": 2,
   "id": "da8d4e6e",
   "metadata": {},
   "outputs": [
    {
     "data": {
      "text/plain": [
       "['anantasana',\n",
       " 'ardhakati chakrasana',\n",
       " 'vajrasana',\n",
       " 'tadasana',\n",
       " 'marjariasana',\n",
       " 'parvatasana',\n",
       " 'bhujangasana',\n",
       " 'viparita karani',\n",
       " 'kati chakrasana',\n",
       " 'sarvangasana']"
      ]
     },
     "execution_count": 2,
     "metadata": {},
     "output_type": "execute_result"
    }
   ],
   "source": [
    "path_dir = os.getcwd() + \"/epic6/Yoga Postures Dataset\"\n",
    "path_images_dir = path_dir + \"/Images\"\n",
    "\n",
    "list_yoga_asanas = [x.lower() for x in os.listdir(path_images_dir)]\n",
    "list_yoga_asanas"
   ]
  },
  {
   "cell_type": "markdown",
   "id": "37127012",
   "metadata": {},
   "source": [
    "### Pre-processing: Extract & transform"
   ]
  },
  {
   "cell_type": "code",
   "execution_count": 3,
   "id": "8edf061d",
   "metadata": {},
   "outputs": [
    {
     "data": {
      "text/plain": [
       "{'anantasana': {2: ['knee'], 1: ['legs', 'neck'], 3: ['knee'], 4: ['hand']},\n",
       " 'ardhakati chakrasana': {2: ['ankle', 'head'],\n",
       "  3: ['knee', 'legs'],\n",
       "  5: ['knee', 'legs'],\n",
       "  4: ['legs'],\n",
       "  1: ['head', 'palms']},\n",
       " 'vajrasana': {2: ['back and head'], 1: ['legs and hand']},\n",
       " 'tadasana': {1: ['legs'],\n",
       "  2: ['legs and hand'],\n",
       "  5: ['standing'],\n",
       "  3: ['legs and hand'],\n",
       "  4: ['hands and legs']},\n",
       " 'marjariasana': {2: ['legs'],\n",
       "  3: ['legs'],\n",
       "  4: ['hand and legs'],\n",
       "  1: ['hand and neck']},\n",
       " 'parvatasana': {3: ['leg and hand'],\n",
       "  2: ['leg and hand', 'hand'],\n",
       "  1: ['leg and hand'],\n",
       "  4: ['hand']},\n",
       " 'bhujangasana': {2: ['legs', 'hand and legs'],\n",
       "  1: ['head', 'legs'],\n",
       "  3: ['legs', 'head']},\n",
       " 'viparita karani': {1: ['legs', 'neck'],\n",
       "  2: ['legs', 'knees', 'neck', 'back ']},\n",
       " 'kati chakrasana': {2: ['hand'], 4: ['neck'], 1: ['legs'], 3: ['neck']},\n",
       " 'sarvangasana': {1: ['neck and hand', 'neck', 'legs'],\n",
       "  2: ['legs', 'back ', 'knees']}}"
      ]
     },
     "execution_count": 3,
     "metadata": {},
     "output_type": "execute_result"
    }
   ],
   "source": [
    "import re\n",
    "\n",
    "dict_yoga_asanas_wrong_postures = {}\n",
    "for asana in list_yoga_asanas:\n",
    "    list_wrong_postures_in_sequence = os.listdir(path_images_dir + \"/\" + asana + \"/\" + asana + \" Wrong Steps\")\n",
    "    \n",
    "    # dict of wrong_postures in a step\n",
    "    dict_wrong_postures_in_step = {}\n",
    "    for s in list_wrong_postures_in_sequence:\n",
    "        # extract asana step number from s\n",
    "        step = int(re.search(r\"Step (\\d)\", s)[1])\n",
    "        \n",
    "        # extract posture\n",
    "        posture = re.search(r\"\\d- ?([A-Za-z ]*)\", s)[1].lower()\n",
    "        \n",
    "        if not step in dict_wrong_postures_in_step.keys():\n",
    "            dict_wrong_postures_in_step[step] = [posture]\n",
    "        else:\n",
    "            dict_wrong_postures_in_step[step].append(posture)\n",
    "    \n",
    "    dict_yoga_asanas_wrong_postures[asana] = dict_wrong_postures_in_step\n",
    "    \n",
    "dict_yoga_asanas_wrong_postures\n"
   ]
  },
  {
   "cell_type": "code",
   "execution_count": 4,
   "id": "caa510b0",
   "metadata": {},
   "outputs": [],
   "source": [
    "# add 2 more as per functionality\n",
    "dict_yoga_asanas_wrong_postures['Pranayama'] = {1: ['Legs', 'Hand'], 2: ['Hand'], 3: ['Hand']}\n",
    "dict_yoga_asanas_wrong_postures['Chakrasana'] = {1: ['Legs', 'Back'], 2: ['Legs', 'Back', 'Hand'], \n",
    "                                                 3: ['Legs', 'Back', 'Hips'], 4: ['Legs', 'Back']}\n"
   ]
  },
  {
   "cell_type": "code",
   "execution_count": 5,
   "id": "adaeb0e0",
   "metadata": {},
   "outputs": [],
   "source": [
    "import json\n",
    "\n",
    "# save in json\n",
    "with open(path_dir + \"/asanas_wrong_postures_in_step.json\", \"w\") as file:\n",
    "    json.dump(dict_yoga_asanas_wrong_postures, file)\n",
    "\n"
   ]
  },
  {
   "cell_type": "code",
   "execution_count": null,
   "id": "19f7d66a",
   "metadata": {},
   "outputs": [],
   "source": []
  }
 ],
 "metadata": {
  "kernelspec": {
   "display_name": "Python 3 (ipykernel)",
   "language": "python",
   "name": "python3"
  },
  "language_info": {
   "codemirror_mode": {
    "name": "ipython",
    "version": 3
   },
   "file_extension": ".py",
   "mimetype": "text/x-python",
   "name": "python",
   "nbconvert_exporter": "python",
   "pygments_lexer": "ipython3",
   "version": "3.9.13"
  }
 },
 "nbformat": 4,
 "nbformat_minor": 5
}
